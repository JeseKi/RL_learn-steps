{
 "cells": [
  {
   "cell_type": "code",
   "execution_count": 8,
   "id": "f8b246e8",
   "metadata": {},
   "outputs": [],
   "source": [
    "import warnings\n",
    "warnings.filterwarnings(\"ignore\")"
   ]
  },
  {
   "cell_type": "code",
   "execution_count": null,
   "id": "e18c8fd3",
   "metadata": {},
   "outputs": [],
   "source": [
    "import gymnasium as gym\n",
    "from stable_baselines3 import DQN\n",
    "from stable_baselines3.common.env_util import make_vec_env\n",
    "from stable_baselines3.common.evaluation import evaluate_policy\n",
    "\n",
    "SEED = 42\n",
    "\n",
    "env = make_vec_env(\n",
    "    \"CartPole-v1\", \n",
    "    n_envs=10, # Q: 这个参数有什么用？\n",
    "    seed=SEED\n",
    "    )\n",
    "\n",
    "model = DQN(\n",
    "    policy=\"MlpPolicy\",\n",
    "    env=env,\n",
    "    learning_rate=1e-3,\n",
    "    buffer_size=50000, # Q: 这个参数有什么用？\n",
    "    learning_starts=1000, # Q: 这个参数有什么用？\n",
    "    batch_size=64,\n",
    "    gamma=0.99, # Q: 这个参数有什么用？\n",
    "    train_freq=4, # Q: 这个参数有什么用？\n",
    "    target_update_interval=1000, # Q: 这个参数有什么用？\n",
    "    exploration_fraction=0.2, # Q: 这个参数有什么用？\n",
    "    exploration_final_eps=0.02, # Q: 这个参数有什么用？\n",
    "    verbose=0,\n",
    "    seed=SEED,\n",
    ")"
   ]
  },
  {
   "cell_type": "code",
   "execution_count": 10,
   "id": "1dbbf10d",
   "metadata": {},
   "outputs": [
    {
     "data": {
      "text/plain": [
       "<stable_baselines3.dqn.dqn.DQN at 0x7f4f1bdba260>"
      ]
     },
     "execution_count": 10,
     "metadata": {},
     "output_type": "execute_result"
    }
   ],
   "source": [
    "total_timesteps = 500_000\n",
    "model.learn(total_timesteps=total_timesteps)"
   ]
  },
  {
   "cell_type": "code",
   "execution_count": null,
   "id": "fddb1c40",
   "metadata": {},
   "outputs": [
    {
     "name": "stdout",
     "output_type": "stream",
     "text": [
      "[Eval] Mean reward over 10 episodes: 9.8 ± 0.4\n"
     ]
    }
   ],
   "source": [
    "mean_reward, std_reward = evaluate_policy(model, \n",
    "                                          env, \n",
    "                                          n_eval_episodes=12, # Q: 这个参数有什么用？\n",
    "                                          render=False, \n",
    "                                          deterministic=True # Q: 这个参数有什么用？\n",
    "                                          )\n",
    "\n",
    "print(f\"[Eval] Mean reward over 10 episodes: {mean_reward:.1f} ± {std_reward:.1f}\")"
   ]
  },
  {
   "cell_type": "code",
   "execution_count": 12,
   "id": "0a11a5ca",
   "metadata": {},
   "outputs": [
    {
     "name": "stdout",
     "output_type": "stream",
     "text": [
      "Model saved to: dqn_cartpole.zip\n"
     ]
    }
   ],
   "source": [
    "save_path = \"dqn_cartpole\"\n",
    "model.save(save_path)\n",
    "print(f\"Model saved to: {save_path}.zip\")"
   ]
  },
  {
   "cell_type": "code",
   "execution_count": 17,
   "id": "105a98fb",
   "metadata": {},
   "outputs": [
    {
     "ename": "KeyboardInterrupt",
     "evalue": "",
     "output_type": "error",
     "traceback": [
      "\u001b[0;31m---------------------------------------------------------------------------\u001b[0m",
      "\u001b[0;31mKeyboardInterrupt\u001b[0m                         Traceback (most recent call last)",
      "Cell \u001b[0;32mIn[17], line 16\u001b[0m\n\u001b[1;32m     14\u001b[0m \u001b[38;5;66;03m# 用环境推荐的渲染帧率限速\u001b[39;00m\n\u001b[1;32m     15\u001b[0m fps \u001b[38;5;241m=\u001b[39m env\u001b[38;5;241m.\u001b[39mmetadata\u001b[38;5;241m.\u001b[39mget(\u001b[38;5;124m\"\u001b[39m\u001b[38;5;124mrender_fps\u001b[39m\u001b[38;5;124m\"\u001b[39m, \u001b[38;5;241m240\u001b[39m)\n\u001b[0;32m---> 16\u001b[0m \u001b[43mtime\u001b[49m\u001b[38;5;241;43m.\u001b[39;49m\u001b[43msleep\u001b[49m\u001b[43m(\u001b[49m\u001b[38;5;241;43m1.0\u001b[39;49m\u001b[43m \u001b[49m\u001b[38;5;241;43m/\u001b[39;49m\u001b[43m \u001b[49m\u001b[43mfps\u001b[49m\u001b[43m)\u001b[49m\n\u001b[1;32m     17\u001b[0m \u001b[38;5;28;01mif\u001b[39;00m done \u001b[38;5;129;01mor\u001b[39;00m truncated:\n\u001b[1;32m     18\u001b[0m     obs, info \u001b[38;5;241m=\u001b[39m env\u001b[38;5;241m.\u001b[39mreset()\n",
      "\u001b[0;31mKeyboardInterrupt\u001b[0m: "
     ]
    }
   ],
   "source": [
    "import time\n",
    "from stable_baselines3 import DQN\n",
    "\n",
    "model = DQN.load(\"dqn_cartpole\")\n",
    "env = gym.make(\"CartPole-v1\", render_mode=\"human\")\n",
    "\n",
    "obs, info = env.reset(seed=42)\n",
    "\n",
    "for _ in range(1000):\n",
    "    action, _ = model.predict(obs, deterministic=True)\n",
    "    # 对于非向量环境，确保是标量动作\n",
    "    action = int(action)                 \n",
    "    obs, reward, done, truncated, info = env.step(action)\n",
    "    # 用环境推荐的渲染帧率限速\n",
    "    fps = env.metadata.get(\"render_fps\", 240)\n",
    "    time.sleep(1.0 / fps)\n",
    "    if done or truncated:\n",
    "        obs, info = env.reset()\n",
    "\n",
    "env.close()\n"
   ]
  },
  {
   "cell_type": "code",
   "execution_count": null,
   "id": "9ab0a942",
   "metadata": {},
   "outputs": [],
   "source": []
  }
 ],
 "metadata": {
  "kernelspec": {
   "display_name": "rl",
   "language": "python",
   "name": "python3"
  },
  "language_info": {
   "codemirror_mode": {
    "name": "ipython",
    "version": 3
   },
   "file_extension": ".py",
   "mimetype": "text/x-python",
   "name": "python",
   "nbconvert_exporter": "python",
   "pygments_lexer": "ipython3",
   "version": "3.10.18"
  }
 },
 "nbformat": 4,
 "nbformat_minor": 5
}
