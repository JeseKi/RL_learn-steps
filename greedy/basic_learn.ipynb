{
 "cells": [
  {
   "cell_type": "markdown",
   "id": "b1e3bcc5",
   "metadata": {},
   "source": [
    "# 贪婪算法的不同和优化"
   ]
  },
  {
   "cell_type": "markdown",
   "id": "31215e0f",
   "metadata": {},
   "source": [
    "## 最高奖励的结果"
   ]
  },
  {
   "cell_type": "code",
   "execution_count": 7,
   "id": "0fda983e",
   "metadata": {},
   "outputs": [
    {
     "name": "stdout",
     "output_type": "stream",
     "text": [
      "Name: normal_greedy \n",
      "Total rewards: 77 \n",
      "Rewards per machine: Rewards(values=[77, 0, 0, 0, 0, 0, 0, 0, 0, 0], counts=[1000, 0, 0, 0, 0, 0, 0, 0, 0, 0])\n",
      "--------------------------------------------------\n",
      "Name: epsilon_greedy \n",
      "Total rewards: 134 \n",
      "Rewards per machine: Rewards(values=[81, 2, 3, 6, 4, 6, 7, 10, 11, 4], counts=[916, 8, 8, 11, 8, 10, 11, 12, 12, 4])\n",
      "--------------------------------------------------\n",
      "当前 epsilon 已经降到 0.5 了， 回合：138\n",
      "Name: epsilon_decreasing_greedy \n",
      "Total rewards: 759 \n",
      "Rewards per machine: Rewards(values=[2, 5, 7, 9, 7, 12, 12, 15, 678, 12], counts=[17, 19, 18, 22, 14, 20, 18, 22, 838, 12])\n",
      "Final epsilon: 0.0100\n",
      "--------------------------------------------------\n"
     ]
    }
   ],
   "source": [
    "from typing import List\n",
    "\n",
    "from core import RLEnv, GreedyAgent\n",
    "from algorithms import greedy_normal, epsilon_greedy, epsilon_decreasing_greedy\n",
    "from train import train\n",
    "\n",
    "SEED = 42\n",
    "\n",
    "env = RLEnv(machine_count=10, seed=SEED)\n",
    "nomal_greedy_agent = GreedyAgent(name=\"normal_greedy\", env=env, greedy_algorithm=greedy_normal, seed=SEED)\n",
    "epsilon_greedy_agent = GreedyAgent(name=\"epsilon_greedy\", env=env, greedy_algorithm=epsilon_greedy, seed=SEED)\n",
    "epsilon_decreasing_greedy_agent = GreedyAgent(name=\"epsilon_decreasing_greedy\", env=env, greedy_algorithm=epsilon_decreasing_greedy, seed=SEED)\n",
    "\n",
    "agents: List[GreedyAgent] = [\n",
    "    nomal_greedy_agent,\n",
    "    epsilon_greedy_agent,\n",
    "    epsilon_decreasing_greedy_agent\n",
    "]\n",
    "\n",
    "for agent in agents:\n",
    "    train(agent, episodes=1000)"
   ]
  },
  {
   "cell_type": "markdown",
   "id": "f6aaf967",
   "metadata": {},
   "source": [
    "## 最高平均回报率的结果"
   ]
  },
  {
   "cell_type": "code",
   "execution_count": 8,
   "id": "06db6fa1",
   "metadata": {},
   "outputs": [
    {
     "name": "stdout",
     "output_type": "stream",
     "text": [
      "Name: greedy_average \n",
      "Total rewards: 77 \n",
      "Rewards per machine: Rewards(values=[77, 0, 0, 0, 0, 0, 0, 0, 0, 0], counts=[1000, 0, 0, 0, 0, 0, 0, 0, 0, 0])\n",
      "--------------------------------------------------\n",
      "Name: epsilon_average \n",
      "Total rewards: 847 \n",
      "Rewards per machine: Rewards(values=[5, 2, 3, 6, 4, 6, 7, 33, 34, 747], counts=[36, 8, 8, 11, 8, 10, 11, 44, 40, 824])\n",
      "--------------------------------------------------\n",
      "当前 epsilon 已经降到 0.5 了， 回合：138\n",
      "Name: epsilon_decreasing_average \n",
      "Total rewards: 847 \n",
      "Rewards per machine: Rewards(values=[2, 5, 7, 9, 9, 12, 13, 24, 47, 719], counts=[17, 19, 18, 22, 17, 21, 19, 31, 55, 781])\n",
      "--------------------------------------------------\n"
     ]
    }
   ],
   "source": [
    "from typing import List\n",
    "\n",
    "from core import RLEnv, GreedyAgent\n",
    "from algorithms import greedy_average, epsilon_average, epsilon_decreasing_average\n",
    "from train import train\n",
    "\n",
    "SEED = 42\n",
    "\n",
    "env = RLEnv(machine_count=10, seed=SEED)\n",
    "nomal_greedy_agent = GreedyAgent(name=\"greedy_average\", env=env, greedy_algorithm=greedy_average, seed=SEED)\n",
    "epsilon_greedy_agent = GreedyAgent(name=\"epsilon_average\", env=env, greedy_algorithm=epsilon_average, seed=SEED)\n",
    "epsilon_decreasing_greedy_agent = GreedyAgent(name=\"epsilon_decreasing_average\", env=env, greedy_algorithm=epsilon_decreasing_average, seed=SEED)\n",
    "\n",
    "agents: List[GreedyAgent] = [\n",
    "    nomal_greedy_agent,\n",
    "    epsilon_greedy_agent,\n",
    "    epsilon_decreasing_greedy_agent\n",
    "]\n",
    "\n",
    "for agent in agents:\n",
    "    train(agent, episodes=1000)"
   ]
  }
 ],
 "metadata": {
  "kernelspec": {
   "display_name": "rl_learn",
   "language": "python",
   "name": "python3"
  },
  "language_info": {
   "codemirror_mode": {
    "name": "ipython",
    "version": 3
   },
   "file_extension": ".py",
   "mimetype": "text/x-python",
   "name": "python",
   "nbconvert_exporter": "python",
   "pygments_lexer": "ipython3",
   "version": "3.10.18"
  }
 },
 "nbformat": 4,
 "nbformat_minor": 5
}
